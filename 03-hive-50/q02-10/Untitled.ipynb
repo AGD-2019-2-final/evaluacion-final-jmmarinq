{
 "cells": [
  {
   "cell_type": "code",
   "execution_count": 1,
   "metadata": {},
   "outputs": [],
   "source": [
    "%load_ext bigdata\n",
    "%timeout 300"
   ]
  },
  {
   "cell_type": "code",
   "execution_count": 2,
   "metadata": {},
   "outputs": [
    {
     "name": "stdout",
     "output_type": "stream",
     "text": [
      "DROP TABLE IF EXISTS data_tsv_2;\n",
      "OK\n",
      "Time taken: 17.737 seconds\n",
      "CREATE TABLE data_tsv_2 (letra    STRING,\n",
      "                       fecha    STRING,\n",
      "                       cantidad INT)\n",
      "ROW FORMAT DELIMITED\n",
      "FIELDS TERMINATED BY '\\t';\n",
      "OK\n",
      "Time taken: 1.945 seconds\n",
      "LOAD DATA LOCAL INPATH \"data.tsv\" OVERWRITE INTO TABLE data_tsv_2;\n",
      "Loading data to table default.data_tsv_2\n",
      "OK\n",
      "Time taken: 3.34 seconds\n",
      "INSERT OVERWRITE LOCAL DIRECTORY 'output'\n",
      "ROW FORMAT DELIMITED\n",
      "FIELDS TERMINATED BY ','\n",
      "STORED AS TEXTFILE\n",
      "SELECT * FROM data_tsv_2\n",
      "ORDER BY letra, cantidad;\n",
      "WARNING: Hive-on-MR is deprecated in Hive 2 and may not be available in the future versions. Consider using a different execution engine (i.e. spark, tez) or using Hive 1.X releases.\n",
      "Query ID = root_20200127012016_fb31540f-8b81-4a8d-9d1d-bbba6dd73720\n",
      "Total jobs = 1\n",
      "Launching Job 1 out of 1\n",
      "Number of reduce tasks determined at compile time: 1\n",
      "In order to change the average load for a reducer (in bytes):\n",
      "  set hive.exec.reducers.bytes.per.reducer=<number>\n",
      "In order to limit the maximum number of reducers:\n",
      "  set hive.exec.reducers.max=<number>\n",
      "In order to set a constant number of reducers:\n",
      "  set mapreduce.job.reduces=<number>\n",
      "Starting Job = job_1580087356722_0001, Tracking URL = http://37a035622aa0:8088/proxy/application_1580087356722_0001/\n",
      "Kill Command = /usr/local/hadoop/bin/hadoop job  -kill job_1580087356722_0001\n",
      "Hadoop job information for Stage-1: number of mappers: 1; number of reducers: 1\n",
      "2020-01-27 01:20:46,161 Stage-1 map = 0%,  reduce = 0%\n",
      "2020-01-27 01:20:58,151 Stage-1 map = 100%,  reduce = 0%, Cumulative CPU 4.37 sec\n",
      "2020-01-27 01:21:09,547 Stage-1 map = 100%,  reduce = 100%, Cumulative CPU 9.22 sec\n",
      "MapReduce Total cumulative CPU time: 9 seconds 220 msec\n",
      "Ended Job = job_1580087356722_0001\n",
      "Moving data to local directory output\n",
      "MapReduce Jobs Launched: \n",
      "Stage-Stage-1: Map: 1  Reduce: 1   Cumulative CPU: 9.22 sec   HDFS Read: 7801 HDFS Write: 637 SUCCESS\n",
      "Total MapReduce CPU Time Spent: 9 seconds 220 msec\n",
      "OK\n",
      "Time taken: 55.119 seconds\n"
     ]
    }
   ],
   "source": [
    "%%hive\n",
    "DROP TABLE IF EXISTS data_tsv_2;\n",
    "\n",
    "CREATE TABLE data_tsv_2 (letra    STRING,\n",
    "                       fecha    STRING,\n",
    "                       cantidad INT)\n",
    "ROW FORMAT DELIMITED\n",
    "FIELDS TERMINATED BY '\\t';\n",
    "\n",
    "LOAD DATA LOCAL INPATH \"data.tsv\" OVERWRITE INTO TABLE data_tsv_2;\n",
    "\n",
    "\n",
    "INSERT OVERWRITE LOCAL DIRECTORY 'output'\n",
    "ROW FORMAT DELIMITED\n",
    "FIELDS TERMINATED BY ','\n",
    "STORED AS TEXTFILE\n",
    "\n",
    "SELECT * FROM data_tsv_2\n",
    "ORDER BY letra, cantidad;\n"
   ]
  },
  {
   "cell_type": "code",
   "execution_count": null,
   "metadata": {},
   "outputs": [],
   "source": []
  }
 ],
 "metadata": {
  "kernelspec": {
   "display_name": "Python 3",
   "language": "python",
   "name": "python3"
  },
  "language_info": {
   "codemirror_mode": {
    "name": "ipython",
    "version": 3
   },
   "file_extension": ".py",
   "mimetype": "text/x-python",
   "name": "python",
   "nbconvert_exporter": "python",
   "pygments_lexer": "ipython3",
   "version": "3.6.8"
  }
 },
 "nbformat": 4,
 "nbformat_minor": 4
}
